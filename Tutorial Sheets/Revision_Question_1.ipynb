{
  "nbformat": 4,
  "nbformat_minor": 0,
  "metadata": {
    "colab": {
      "name": "Revision Question 1.ipynb",
      "provenance": [],
      "private_outputs": true,
      "collapsed_sections": [
        "meJhM9SjDkbv",
        "u59ZLRUwAYy0",
        "0IXQpGS7DCBh",
        "Z2XRPesbDYcn",
        "x6pGdekpD-Oh",
        "Irk3V3dSGIGe"
      ],
      "authorship_tag": "ABX9TyPS10m9kaU/WNRoQOfVevjN",
      "include_colab_link": true
    },
    "kernelspec": {
      "name": "python3",
      "display_name": "Python 3"
    }
  },
  "cells": [
    {
      "cell_type": "markdown",
      "metadata": {
        "id": "view-in-github",
        "colab_type": "text"
      },
      "source": [
        "<a href=\"https://colab.research.google.com/github/shengy90/RHUL-CS5200-Tutorials/blob/master/Tutorial%20Sheets/Revision_Question_1.ipynb\" target=\"_parent\"><img src=\"https://colab.research.google.com/assets/colab-badge.svg\" alt=\"Open In Colab\"/></a>"
      ]
    },
    {
      "cell_type": "markdown",
      "metadata": {
        "id": "meJhM9SjDkbv",
        "colab_type": "text"
      },
      "source": [
        "###### Importing Libraries"
      ]
    },
    {
      "cell_type": "code",
      "metadata": {
        "id": "VxJH1JGcDikk",
        "colab_type": "code",
        "colab": {}
      },
      "source": [
        "import numpy as np"
      ],
      "execution_count": 0,
      "outputs": []
    },
    {
      "cell_type": "markdown",
      "metadata": {
        "id": "O_hmg-f1AUFL",
        "colab_type": "text"
      },
      "source": [
        "# Revision Question 1"
      ]
    },
    {
      "cell_type": "markdown",
      "metadata": {
        "id": "u59ZLRUwAYy0",
        "colab_type": "text"
      },
      "source": [
        "### **1.Give the definision of depth one Markov Chain**"
      ]
    },
    {
      "cell_type": "markdown",
      "metadata": {
        "id": "n7zWpjlODURb",
        "colab_type": "text"
      },
      "source": [
        "$P(H_{T=t}|H_{T=1},H_{T=2},...,H_{T=t-1}) = P(H_{T=t}|H_{T=t-1})$\n",
        "\n",
        "Current value of H only depends on the previous 1 value of H.\n"
      ]
    },
    {
      "cell_type": "markdown",
      "metadata": {
        "id": "0IXQpGS7DCBh",
        "colab_type": "text"
      },
      "source": [
        "### **2. This question is based on Wikipedia article “Markov chain”**\n",
        "\n",
        "A week on a stock exchange can be characterised as bull market (with prices going up), bear market (with prices going down), or stagnant (with prices staying at about the same level). Let us describe the market by a Markov chain with the following transition probabilities:\n",
        "\n",
        "![Fig 1](https://github.com/shengy90/RHUL-CS5200-Tutorials/blob/master/Tutorial%20Sheets/msc/rev1fig1.png?raw=true)![alt text](https://)"
      ]
    },
    {
      "cell_type": "markdown",
      "metadata": {
        "id": "Z2XRPesbDYcn",
        "colab_type": "text"
      },
      "source": [
        "##### **a. Write down the transition matrix M for the chain (assume the order: bull, bear, stagment)**"
      ]
    },
    {
      "cell_type": "code",
      "metadata": {
        "id": "wp0lF240Dfiz",
        "colab_type": "code",
        "colab": {}
      },
      "source": [
        "M = np.array([[0.9, 0.075, 0.025],\n",
        "              [0.15, 0.8, 0.05],\n",
        "              [0.5, 0.25, 0.25]\n",
        "              ])\n",
        "print(f\"Transition matrix M: \\n{M}\")"
      ],
      "execution_count": 0,
      "outputs": []
    },
    {
      "cell_type": "markdown",
      "metadata": {
        "id": "x6pGdekpD-Oh",
        "colab_type": "text"
      },
      "source": [
        "##### **b. Assuming the initial probabilities of bear market as 0.4, bull market as 0.4 and stagnant market as 0.2, calculate the probability to get the sequence of weeks bull, bull, stagnant, bear, bull.**"
      ]
    },
    {
      "cell_type": "code",
      "metadata": {
        "id": "5Xo-0FA7EJl2",
        "colab_type": "code",
        "colab": {}
      },
      "source": [
        "P_BullBullStagBearBull = 0.4 * 0.9 * 0.025 * 0.25 * 0.15\n",
        "print(f\"P(Bull, Bull, Stagnant, Bear, Bull): \\n {P_BullBullStagBearBull}\")"
      ],
      "execution_count": 0,
      "outputs": []
    },
    {
      "cell_type": "markdown",
      "metadata": {
        "id": "vnPWowyJEswm",
        "colab_type": "text"
      },
      "source": [
        "##### **c. Work out the 2- and 3-step transition chain.**"
      ]
    },
    {
      "cell_type": "code",
      "metadata": {
        "id": "48kdZROEEl_d",
        "colab_type": "code",
        "colab": {}
      },
      "source": [
        "M2 = np.linalg.matrix_power(M, 2)\n",
        "M3 = np.linalg.matrix_power(M, 3)\n",
        "print(f\"M2:\\n{M2}\\n M3:\\n{M3}\")"
      ],
      "execution_count": 0,
      "outputs": []
    },
    {
      "cell_type": "markdown",
      "metadata": {
        "id": "7Vk_XU_oFSyU",
        "colab_type": "text"
      },
      "source": [
        "##### **d. Assuming the initial probabilities as above, calculate the probability of the 3rd week being bull market.**"
      ]
    },
    {
      "cell_type": "code",
      "metadata": {
        "id": "HBnPrSJWFMpl",
        "colab_type": "code",
        "colab": {}
      },
      "source": [
        "P = [0.4, 0.4, 0.2]\n",
        "PM2 = np.dot(P, M2)\n",
        "print(f\"Probably of third week being bull market: \\n{PM2[0]}\")"
      ],
      "execution_count": 0,
      "outputs": []
    },
    {
      "cell_type": "markdown",
      "metadata": {
        "id": "4DgzwcwpFrin",
        "colab_type": "text"
      },
      "source": [
        "##### **e. Calculate the stationary distribution of the Markov chain.**"
      ]
    },
    {
      "cell_type": "code",
      "metadata": {
        "id": "JBvRiC8PFoNl",
        "colab_type": "code",
        "colab": {}
      },
      "source": [
        "M_inf = np.linalg.matrix_power(M, 99999)\n",
        "PM_inf = np.dot(P, M_inf)\n",
        "print(f\"Stationary distribution of the Markov chain: \\n{PM_inf}\")"
      ],
      "execution_count": 0,
      "outputs": []
    },
    {
      "cell_type": "markdown",
      "metadata": {
        "id": "Irk3V3dSGIGe",
        "colab_type": "text"
      },
      "source": [
        "### **3. The following sequence of weeks has been observed: bull, bull, bear, bull, stagnant, bear, bull, bull, bear, stagnant, stagnant, bull, bull, bear.** \n",
        "\n",
        "##### Assuming that this sequence was generated by a first-order Markov chain, find the maximum likelihood estimate of the transition probabilities.\n"
      ]
    },
    {
      "cell_type": "markdown",
      "metadata": {
        "id": "WRYZZv_SGkTP",
        "colab_type": "text"
      },
      "source": [
        "Transition counts:\n",
        "\n",
        "${bull,bull}$ = 3 \n",
        "\n",
        "${bull,bear}$ = 3 \n",
        "\n",
        "${bull,stagnant}$ = 1 \n",
        "\n",
        "${bear,bull}$ = 2 \n",
        "\n",
        "${bear,bear}$ = 0 \n",
        "\n",
        "${bear,stagnant}$ = 1 \n",
        "\n",
        "${stagnant,bull}$ = 1 \n",
        "\n",
        "${stagnant,bear}$ = 1 \n",
        "\n",
        "${stagnant,stagnant}$ = 1"
      ]
    },
    {
      "cell_type": "code",
      "metadata": {
        "id": "5mmfvp1eG1nt",
        "colab_type": "code",
        "colab": {}
      },
      "source": [
        "bull = np.array([3,3,1])\n",
        "bear = np.array([2,0,1])\n",
        "stag = np.array([1,1,1])\n",
        "\n",
        "M = np.array([\n",
        "              [bull[0]/np.sum(bull), bull[1]/np.sum(bull), bull[2]/np.sum(bull)],\n",
        "              [bear[0]/np.sum(bear), bear[1]/np.sum(bear), bear[2]/np.sum(bear)],\n",
        "              [stag[0]/np.sum(stag), stag[1]/np.sum(stag), stag[2]/np.sum(stag)]\n",
        "])"
      ],
      "execution_count": 0,
      "outputs": []
    },
    {
      "cell_type": "code",
      "metadata": {
        "id": "Ym5B3Bl6IyjA",
        "colab_type": "code",
        "colab": {}
      },
      "source": [
        "print(f\"Maximum likelihood estimate of the transition probabilities:\\n{M}\")"
      ],
      "execution_count": 0,
      "outputs": []
    },
    {
      "cell_type": "markdown",
      "metadata": {
        "id": "LKjOUcRnI7rk",
        "colab_type": "text"
      },
      "source": [
        "### **4. Consider a set of three pages. Page 1 links 2 and 3; page 2 links 3; page 3 links 1. Calculate their page rank using the damping factor d = 0.85.**"
      ]
    },
    {
      "cell_type": "code",
      "metadata": {
        "id": "O6k3_fYEJBIZ",
        "colab_type": "code",
        "colab": {}
      },
      "source": [
        ""
      ],
      "execution_count": 0,
      "outputs": []
    }
  ]
}